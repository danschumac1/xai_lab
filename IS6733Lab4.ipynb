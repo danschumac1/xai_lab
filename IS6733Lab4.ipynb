{
  "cells": [
    {
      "cell_type": "markdown",
      "metadata": {
        "id": "A7lACZZxKsY2"
      },
      "source": [
        "# Debiasing word embeddings\n",
        "\n",
        "Word embedding are word vectors that have meaning, word vectors similar to each other will be close to each other in a vector space.\n",
        "\n",
        "**After completing this lab you will be to:**\n",
        "\n",
        "- Use and load pre-trained word vectors\n",
        "- Measure similarity of word vectors using cosine similarity\n",
        "- Solve word analogy probelms such as Man is to Woman as Boy is to ____ using word embeddings\n",
        "- Reduce gender bias in word embeddings by modifying word embeddings to remove gender stereotypes, such as the association between the words *receptionist* and *female*"
      ]
    },
    {
      "cell_type": "markdown",
      "metadata": {
        "id": "UTlroLtZPGwh"
      },
      "source": [
        "## <font color='darkblue'>Word embeddings</font>\n",
        "\n",
        "Word embedding is a method used to represent words as vectors. They are populary used in machine learning and natural language processing tasks. Despite their success in downstream tasks such as cyberbullying, sentiment analysis, and question retrieval, they exhibit gender sterotypes which raises concerns because their widespread use can amplify these biases.\n",
        "\n",
        "\n",
        "Word embeddings are trained on word co-occurance using a text dataset. After training, each word $w$ will be represented as a $d$-dimensional word vector $\\vec{w} \\space ϵ \\space ℝ^d $.\n",
        "\n",
        "#### Word embedding properties:\n",
        "* Words with similar semantic meaning will be close to each other\n",
        "* The difference between word embedding vectors can represent relationships between words. For example, given the analogy \"man is to King as woman is to $x$\" (denoted as $man:king :: woman:x$), by doing simple arithmetic on the embedding vectors, we find that $x = queen$ is the best answer because $\\vec{man} - \\vec{woman} ≈ \\vec{king} - \\vec{queen}$. For the analogy $Paris:France :: Nairobi:x$, finds that $x = Kenya$. These embeddings can also amplify sexism implicit in text. For instance, $\\vec{man} - \\vec{woman} ≈ \\vec{computer \\space programmer} - \\vec{homemaker}$. The same system that produced reasonable answers to the previous examples offensively answers \"man is to computer programmer as woman is to $x$\" with $x = homemaker$.\n",
        "\n",
        "Run the following cell to load the required modules."
      ]
    },
    {
      "cell_type": "code",
      "execution_count": 13,
      "metadata": {
        "id": "LIgOC7jfKe6w"
      },
      "outputs": [
        {
          "name": "stdout",
          "output_type": "stream",
          "text": [
            "/home/dan/DeepLearning/xai_lab\n"
          ]
        }
      ],
      "source": [
        "import os\n",
        "print(os.getcwd())\n",
        "import json\n",
        "import numpy as np\n",
        "from pathlib import Path\n",
        "from sklearn.decomposition import PCA"
      ]
    },
    {
      "cell_type": "markdown",
      "metadata": {
        "id": "5jgtMxNajovM"
      },
      "source": [
        "## <font color='darkblue'>Download and Load word vectors</font>\n",
        "Due to the computational resources required to train word embeddings, we will be using a pre-trained 50-dimensional word embeddings, GloVe to represent words.\n",
        "\n",
        "Run the following cells to download and load the word embeddings."
      ]
    },
    {
      "cell_type": "code",
      "execution_count": 19,
      "metadata": {
        "id": "rP6R3VgXmMwQ"
      },
      "outputs": [],
      "source": [
        "def download_glove_vectors():\n",
        "    '''\n",
        "    Download the GloVe vectors\n",
        "    Arguments:\n",
        "        None\n",
        "    Returns:\n",
        "        file_name (String): The absolute path of the downloaded 50-dimensional\n",
        "        GloVe word vector representations\n",
        "    '''\n",
        "\n",
        "    if not Path('data').is_dir():\n",
        "        print(\"Downloading the embeddings ...\")\n",
        "        !wget --quiet https://nlp.stanford.edu/data/glove.6B.zip\n",
        "        print(\"Embeddings downloaded.\")\n",
        "\n",
        "        # Unzip it\n",
        "        print(\"Unzipping the downloaded file ...\")\n",
        "        !unzip -q glove.6B.zip -d data/\n",
        "        print(\"File unzipped.\")\n",
        "\n",
        "    return './data/glove.6B.50d.txt'"
      ]
    },
    {
      "cell_type": "code",
      "execution_count": 20,
      "metadata": {
        "id": "NdjBx4rsjgTp"
      },
      "outputs": [],
      "source": [
        "def get_glove_vectors(glove_file):\n",
        "    '''\n",
        "    Read the word vectors in glove_file\n",
        "    Arguments:\n",
        "        glove_file (String): The absolute path to the downloaded glove word embeddings\n",
        "    Returns:\n",
        "        words (Set): The words (vocabulary) in the pretrained glove word embeddings\n",
        "        word_to_vector_map (Dict): A dictionary mapping the each word to its embedding vector\n",
        "    '''\n",
        "\n",
        "    words = set()\n",
        "    word_to_vector_map = {}\n",
        "    with open(glove_file, 'r') as file_handle:\n",
        "        for line in file_handle:\n",
        "            line = line.strip().split()\n",
        "            current_word = line[0]\n",
        "            words.add(current_word)\n",
        "            current_word_vector = line[1:]\n",
        "            word_to_vector_map[current_word] = np.array(current_word_vector, dtype=np.float64)\n",
        "\n",
        "    return words, word_to_vector_map"
      ]
    },
    {
      "cell_type": "code",
      "execution_count": 21,
      "metadata": {},
      "outputs": [
        {
          "data": {
            "text/plain": [
              "'./data/glove.6B.50d.txt'"
            ]
          },
          "execution_count": 21,
          "metadata": {},
          "output_type": "execute_result"
        }
      ],
      "source": [
        "download_glove_vectors()"
      ]
    },
    {
      "cell_type": "code",
      "execution_count": 22,
      "metadata": {
        "id": "y0iu6d7On-Ei"
      },
      "outputs": [],
      "source": [
        "# Load sets of words in the vocabulary and a dictionary mapping words to their GloVe vectors\n",
        "\n",
        "words, word_to_vector_map = get_glove_vectors(download_glove_vectors())"
      ]
    },
    {
      "cell_type": "markdown",
      "metadata": {
        "id": "VFF8yxWxq06z"
      },
      "source": [
        "## <font color='darkblue'>Operations on word embeddings</font>\n",
        "\n",
        "### Task 1 - Cosine similarity\n",
        "\n",
        "Similarity between two words represented as word vectors $u$ and $v$ can be measured by their cosine similarity:\n",
        "\n",
        "$$\\text{CosineSimilarity(u, v)} = \\frac {u \\cdot v} {||u||_2 ||v||_2} = cos(\\theta) \\tag{1}$$\n",
        "\n",
        "Where:\n",
        "\n",
        "$u \\cdot v$ is the dot (inner) product of the two vectors\n",
        "\n",
        "$||u||_2$ is the length of the vector $u$. The length also called Euclidean length or Euclidean norm defines a distance function defined as $||u||_2 = \\sqrt{u_1^2 \\space + \\space ... \\space + \\space u_n^2}$\n",
        "\n",
        "The normalized similarity between $u$ and $v$ is the cosine of the angle between the two vectors denoted as $\\theta$. The cosine similarity of $u$ and $v$ will be close to 1 if the two vectors are similar, otherwise, the cosine similarity will be small.\n",
        "\n",
        "**Note**: We will be refering to the embedding of a word i.e the word vector and the word interchangeably in this lab.\n",
        "\n",
        "\n",
        "***\n",
        "**<font color='red'>Task 1a:</font>** Implement equation 1 in the `cosine_similarity()` function below. <br> Hint: check out the numpy documentation on [np.dot](https://numpy.org/doc/stable/reference/generated/numpy.dot.html), [np.sum](https://numpy.org/doc/stable/reference/generated/numpy.sum.html), and [np.sqrt](https://numpy.org/doc/stable/reference/generated/numpy.sqrt.html). Depending on how you choose to implement it, you can check out [np.linalg.norm](https://numpy.org/doc/stable/reference/generated/numpy.linalg.norm.html).\n",
        "***\n"
      ]
    },
    {
      "cell_type": "code",
      "execution_count": 23,
      "metadata": {
        "id": "QJWkmQXh-iK1"
      },
      "outputs": [],
      "source": [
        "def cosine_similarity(vector1, vector2):\n",
        "    \"\"\"\n",
        "    Calculates the cosine similarity of two word vectors - vector1 and vector2\n",
        "    Arguments:\n",
        "        vector1 (ndarray): A word vector having shape (n,)\n",
        "        vector2 (ndarray): A word vector having shape (n,)\n",
        "    Returns:\n",
        "        cosine_similarity (float): The cosine similarity between vector1 and vector2\n",
        "    \"\"\"\n",
        "\n",
        "    # Start Code Here #\n",
        "    # Compute the dot product between vector1 and vector2 (~ 1 line)\n",
        "    dot = np.dot(vector1, vector2)\n",
        "\n",
        "    # Compute the Euclidean norm or length of vector1 (~ 1 line)\n",
        "    norm_vector1 = np.linalg.norm(vector1)\n",
        "\n",
        "    # Compute the Euclidean norm or length of vector2 (~ 1 line)\n",
        "    norm_vector2 = np.linalg.norm(vector2)\n",
        "\n",
        "    # Compute the cosine similarity as defined in equation 1 (~ 1 line)\n",
        "    cosine_similarity = dot / (norm_vector1 * norm_vector2)\n",
        "    # End Code Here #\n",
        "\n",
        "    return cosine_similarity\n"
      ]
    },
    {
      "cell_type": "code",
      "execution_count": 24,
      "metadata": {
        "id": "eP-Kxp7YBcDw"
      },
      "outputs": [
        {
          "name": "stdout",
          "output_type": "stream",
          "text": [
            "Cosine similarity between man and woman: 0.886033771849582\n",
            "Cosine similarity between cat and dog: 0.9218005273769252\n",
            "Cosine similarity between cat and cow: 0.4069568871182629\n",
            "Cosine similarity between england - london and edinburgh - scotland: -0.5203389719861109\n"
          ]
        }
      ],
      "source": [
        "# Run this cell to obtain and report your answers\n",
        "man = word_to_vector_map[\"man\"]\n",
        "woman = word_to_vector_map[\"woman\"]\n",
        "cat = word_to_vector_map[\"cat\"]\n",
        "dog = word_to_vector_map[\"dog\"]\n",
        "orange = word_to_vector_map[\"orange\"]\n",
        "england = word_to_vector_map[\"england\"]\n",
        "london = word_to_vector_map[\"london\"]\n",
        "edinburgh = word_to_vector_map[\"edinburgh\"]\n",
        "scotland = word_to_vector_map[\"scotland\"]\n",
        "\n",
        "print(f\"Cosine similarity between man and woman: {cosine_similarity(man, woman)}\")\n",
        "print(f\"Cosine similarity between cat and dog: {cosine_similarity(cat, dog)}\")\n",
        "print(f\"Cosine similarity between cat and cow: {cosine_similarity(cat, orange)}\")\n",
        "print(f\"Cosine similarity between england - london and edinburgh - scotland: {cosine_similarity(england - london, edinburgh - scotland)}\")"
      ]
    },
    {
      "cell_type": "markdown",
      "metadata": {
        "id": "2FMC1hZ4njIH"
      },
      "source": [
        "**<font color='red'>Task 1b:</font>** In the code cell below, try out 3 of your own inputs here and report your inputs and outputs"
      ]
    },
    {
      "cell_type": "code",
      "execution_count": 33,
      "metadata": {
        "id": "6UZa7KJJDDQh"
      },
      "outputs": [
        {
          "name": "stdout",
          "output_type": "stream",
          "text": [
            "Cosine similarity between toy and bacon: 0.2533245867878589\n",
            "Cosine similarity between toy and math: 0.2544171911959822\n",
            "Cosine similarity between bacon and math: -0.010772567918202932\n"
          ]
        }
      ],
      "source": [
        "# Start code here #\n",
        "toy = word_to_vector_map[\"toy\"]\n",
        "bacon = word_to_vector_map[\"bacon\"]\n",
        "math = word_to_vector_map[\"math\"]\n",
        "\n",
        "\n",
        "print(f\"Cosine similarity between toy and bacon: {cosine_similarity(toy, bacon)}\")\n",
        "print(f\"Cosine similarity between toy and math: {cosine_similarity(toy, math)}\")\n",
        "print(f\"Cosine similarity between bacon and math: {cosine_similarity(bacon, math)}\")\n",
        "# End code here #"
      ]
    },
    {
      "cell_type": "markdown",
      "metadata": {
        "id": "LmsetI1rFUcy"
      },
      "source": [
        "### Task 2 - Word analogy\n",
        "\n",
        "In an analogy task, you are given an analogy in the form \"i is to j as k is to ___\". Your task is to complete this sentence.\n",
        "\n",
        "For example, if you are given \"man is to king as woman is to $l$\" (denoted as $man:king :: woman:l$). You are to find the best word $l$ that answers the analogy the best. Simple arithmetic of the embedding vectors will find that $l = queen$ is the best answer because the embedding vectors of words $i$, $j$, $k$, and $l$ denoted as $e_i$, $e_j$, $e_k$, $e_l$ have the following relationship:\n",
        "$$e_j - e_i ≈ e_l - e_k$$\n",
        "\n",
        "Cosine similarity can be used to measure the similarity between $e_j - e_i$ and $e_l - e_k$\n",
        "\n",
        "***\n",
        "**<font color='red'>Task 2a:</font>** To perform word analogies, implement `answer_analogy()` below.\n",
        "***\n",
        "\n"
      ]
    },
    {
      "cell_type": "code",
      "execution_count": 36,
      "metadata": {
        "id": "C2k8WuJYn6y9"
      },
      "outputs": [],
      "source": [
        "import numpy as np\n",
        "\n",
        "def answer_analogy(word_i, word_j, word_k, word_to_vector_map):\n",
        "    \"\"\"\n",
        "    Performs word analogy as described above\n",
        "    Arguments:\n",
        "        word_i (String): A word\n",
        "        word_j (String): A word\n",
        "        word_k (String): A word\n",
        "        word_to_vector_map (Dict): A dictionary of words as key and its associated embedding vector as value\n",
        "    Returns:\n",
        "        best_word (String): A word that fulfills the relationship that e_j - e_i as close as possible to e_l - e_k, as measured by cosine similarity\n",
        "    \"\"\"\n",
        "\n",
        "    # Convert words to lowercase\n",
        "    word_i = word_i.lower()\n",
        "    word_j = word_j.lower()\n",
        "    word_k = word_k.lower()\n",
        "\n",
        "    # Extract vectors for word_i, word_j, word_k\n",
        "    try:\n",
        "        embedding_vector_of_word_i = word_to_vector_map[word_i]\n",
        "        embedding_vector_of_word_j = word_to_vector_map[word_j]\n",
        "        embedding_vector_of_word_k = word_to_vector_map[word_k]\n",
        "    except KeyError as e:\n",
        "        print(f\"{e.args[0]} is not in our vocabulary. Please try a different word.\")\n",
        "        return\n",
        "\n",
        "    # Calculate the vector for e_j - e_i\n",
        "    e_j_minus_e_i = embedding_vector_of_word_j - embedding_vector_of_word_i\n",
        "\n",
        "    # Initialize variables for finding the best word\n",
        "    max_cosine_similarity = -1  # Cosine similarity ranges from -1 to 1\n",
        "    best_word = None\n",
        "\n",
        "    # Loop over all words in the vocabulary to find the best fit for the analogy\n",
        "    for word, embedding_vector in word_to_vector_map.items():\n",
        "        if word in (word_i, word_j, word_k):\n",
        "            continue  # Skip the input words\n",
        "\n",
        "        # Calculate e_l - e_k for the current word\n",
        "        e_l_minus_e_k = embedding_vector - embedding_vector_of_word_k\n",
        "\n",
        "        # Calculate cosine similarity\n",
        "        cosine_similarity = np.dot(e_j_minus_e_i, e_l_minus_e_k) / (np.linalg.norm(e_j_minus_e_i) * np.linalg.norm(e_l_minus_e_k))\n",
        "\n",
        "        # Update the best word if the current cosine similarity is greater than the max found so far\n",
        "        if cosine_similarity > max_cosine_similarity:\n",
        "            max_cosine_similarity = cosine_similarity\n",
        "            best_word = word\n",
        "\n",
        "    return best_word\n"
      ]
    },
    {
      "cell_type": "markdown",
      "metadata": {
        "id": "PzFBmLKKyDD8"
      },
      "source": [
        "***\n",
        "**<font color='red'>Task 2b:</font>** Test your implementation by running the code cell below. What are your observations? What do you observe about the last two outputs?.\n",
        "***\n"
      ]
    },
    {
      "cell_type": "code",
      "execution_count": 37,
      "metadata": {
        "id": "wSB0BR5YvPg0"
      },
      "outputs": [
        {
          "name": "stdout",
          "output_type": "stream",
          "text": [
            "france -> french :: germany -> german\n",
            "england -> london :: japan -> tokyo\n",
            "boy -> girl :: man -> woman\n",
            "man -> doctor :: woman -> nurse\n",
            "small -> smaller :: big -> competitors\n"
          ]
        }
      ],
      "source": [
        "analogies = [('france', 'french', 'germany'),\n",
        "             ('england', 'london', 'japan'),\n",
        "             ('boy', 'girl', 'man'),\n",
        "             ('man', 'doctor', 'woman'),\n",
        "             ('small', 'smaller', 'big')]\n",
        "for analogy in analogies:\n",
        "    best_word = answer_analogy(*analogy, word_to_vector_map)\n",
        "    if best_word:\n",
        "        print(f\"{analogy[0]} -> {analogy[1]} :: {analogy[2]} -> {best_word}\")"
      ]
    },
    {
      "cell_type": "markdown",
      "metadata": {
        "id": "yFAAQaTSw1cJ"
      },
      "source": [
        "***\n",
        "**<font color='red'>Task 2c:</font>** Try your own analogies by completing and executing the code cell below. Find 2 that works and one that doesn't. Report your inputs and outputs\n",
        "***"
      ]
    },
    {
      "cell_type": "code",
      "execution_count": 48,
      "metadata": {
        "id": "qfSf04VzxN2C"
      },
      "outputs": [
        {
          "name": "stdout",
          "output_type": "stream",
          "text": [
            "mom -> grandma :: dad -> grandpa\n",
            "car -> bus :: boat -> ferry\n",
            "biology -> science :: geometry -> television\n",
            "football -> touchdown :: soccer -> 1-yard\n"
          ]
        }
      ],
      "source": [
        "my_analogies = [('mom', 'grandma', 'dad'),('car', 'bus', 'boat'), ('biology', 'science', 'geometry'), ('football', 'touchdown', 'soccer')]\n",
        "for analogy in my_analogies:\n",
        "    best_word = answer_analogy(*analogy, word_to_vector_map)\n",
        "    print(f\"{analogy[0]} -> {analogy[1]} :: {analogy[2]} -> {best_word}\")"
      ]
    },
    {
      "cell_type": "markdown",
      "metadata": {
        "id": "3sbFypomLRbE"
      },
      "source": [
        "### Task 3 - Geometry of Gender and Bias in Word Embeddings: Occupational stereotypes\n",
        "In this task, we will understand the biases present in word-embedding i.e which words are closer to $she$ than to $he$. This will be achieved by evaluating whether the GloVe embeddings have sterotypes on occupation words. Determine gender bias by projecting each of the occupations onto the $she - he$ direction by computing the dot product between each occupation word embedding and the embedding vector of $she - he$ normalized by the Euclidean norm (See task 1).\n",
        "\n",
        "$$occupation\\_word_i \\cdot ||she - he||_2 \\tag{2}$$\n",
        "\n",
        "Notice that equation 2 is similar to only the numerator of equation 1 because we are computing the dot product of $occupation\\_word_i$ and the normalized difference between $she$ and $he$.\n",
        "\n",
        "Run the cells below to download and view the occupations."
      ]
    },
    {
      "cell_type": "code",
      "execution_count": 57,
      "metadata": {
        "id": "Rg5hB08IX8PB"
      },
      "outputs": [],
      "source": [
        "def download_occupations():\n",
        "    if not Path('debiaswe').is_dir():\n",
        "        print(\"Downloading occupation list ...\")\n",
        "        !git clone -q https://github.com/tolga-b/debiaswe.git\n",
        "        print(\"Occupation list downloaded.\")\n",
        "\n",
        "    return 'debiaswe/data/professions.json'\n",
        "\n",
        "\n",
        "def view_occupations(occupations_file):\n",
        "    with open(occupations_file, 'r') as file_handle:\n",
        "        occupations = json.load(file_handle)\n",
        "\n",
        "        for occupation in occupations:\n",
        "            print(occupation[0])"
      ]
    },
    {
      "cell_type": "code",
      "execution_count": 58,
      "metadata": {
        "id": "gpWAw2r4oK59"
      },
      "outputs": [],
      "source": [
        "occupations_file = download_occupations()"
      ]
    },
    {
      "cell_type": "code",
      "execution_count": 59,
      "metadata": {
        "id": "O1dlznxmliBJ"
      },
      "outputs": [
        {
          "name": "stdout",
          "output_type": "stream",
          "text": [
            "accountant\n",
            "acquaintance\n",
            "actor\n",
            "actress\n",
            "adjunct_professor\n",
            "administrator\n",
            "adventurer\n",
            "advocate\n",
            "aide\n",
            "alderman\n",
            "alter_ego\n",
            "ambassador\n",
            "analyst\n",
            "anthropologist\n",
            "archaeologist\n",
            "archbishop\n",
            "architect\n",
            "artist\n",
            "artiste\n",
            "assassin\n",
            "assistant_professor\n",
            "associate_dean\n",
            "associate_professor\n",
            "astronaut\n",
            "astronomer\n",
            "athlete\n",
            "athletic_director\n",
            "attorney\n",
            "author\n",
            "baker\n",
            "ballerina\n",
            "ballplayer\n",
            "banker\n",
            "barber\n",
            "baron\n",
            "barrister\n",
            "bartender\n",
            "biologist\n",
            "bishop\n",
            "bodyguard\n",
            "bookkeeper\n",
            "boss\n",
            "boxer\n",
            "broadcaster\n",
            "broker\n",
            "bureaucrat\n",
            "businessman\n",
            "businesswoman\n",
            "butcher\n",
            "butler\n",
            "cab_driver\n",
            "cabbie\n",
            "cameraman\n",
            "campaigner\n",
            "captain\n",
            "cardiologist\n",
            "caretaker\n",
            "carpenter\n",
            "cartoonist\n",
            "cellist\n",
            "chancellor\n",
            "chaplain\n",
            "character\n",
            "chef\n",
            "chemist\n",
            "choreographer\n",
            "cinematographer\n",
            "citizen\n",
            "civil_servant\n",
            "cleric\n",
            "clerk\n",
            "coach\n",
            "collector\n",
            "colonel\n",
            "columnist\n",
            "comedian\n",
            "comic\n",
            "commander\n",
            "commentator\n",
            "commissioner\n",
            "composer\n",
            "conductor\n",
            "confesses\n",
            "congressman\n",
            "constable\n",
            "consultant\n",
            "cop\n",
            "correspondent\n",
            "councilman\n",
            "councilor\n",
            "counselor\n",
            "critic\n",
            "crooner\n",
            "crusader\n",
            "curator\n",
            "custodian\n",
            "dad\n",
            "dancer\n",
            "dean\n",
            "dentist\n",
            "deputy\n",
            "dermatologist\n",
            "detective\n",
            "diplomat\n",
            "director\n",
            "disc_jockey\n",
            "doctor\n",
            "doctoral_student\n",
            "drug_addict\n",
            "drummer\n",
            "economics_professor\n",
            "economist\n",
            "editor\n",
            "educator\n",
            "electrician\n",
            "employee\n",
            "entertainer\n",
            "entrepreneur\n",
            "environmentalist\n",
            "envoy\n",
            "epidemiologist\n",
            "evangelist\n",
            "farmer\n",
            "fashion_designer\n",
            "fighter_pilot\n",
            "filmmaker\n",
            "financier\n",
            "firebrand\n",
            "firefighter\n",
            "fireman\n",
            "fisherman\n",
            "footballer\n",
            "foreman\n",
            "freelance_writer\n",
            "gangster\n",
            "gardener\n",
            "geologist\n",
            "goalkeeper\n",
            "graphic_designer\n",
            "guidance_counselor\n",
            "guitarist\n",
            "hairdresser\n",
            "handyman\n",
            "headmaster\n",
            "historian\n",
            "hitman\n",
            "homemaker\n",
            "hooker\n",
            "housekeeper\n",
            "housewife\n",
            "illustrator\n",
            "industrialist\n",
            "infielder\n",
            "inspector\n",
            "instructor\n",
            "interior_designer\n",
            "inventor\n",
            "investigator\n",
            "investment_banker\n",
            "janitor\n",
            "jeweler\n",
            "journalist\n",
            "judge\n",
            "jurist\n",
            "laborer\n",
            "landlord\n",
            "lawmaker\n",
            "lawyer\n",
            "lecturer\n",
            "legislator\n",
            "librarian\n",
            "lieutenant\n",
            "lifeguard\n",
            "lyricist\n",
            "maestro\n",
            "magician\n",
            "magistrate\n",
            "maid\n",
            "major_leaguer\n",
            "manager\n",
            "marksman\n",
            "marshal\n",
            "mathematician\n",
            "mechanic\n",
            "mediator\n",
            "medic\n",
            "midfielder\n",
            "minister\n",
            "missionary\n",
            "mobster\n",
            "monk\n",
            "musician\n",
            "nanny\n",
            "narrator\n",
            "naturalist\n",
            "negotiator\n",
            "neurologist\n",
            "neurosurgeon\n",
            "novelist\n",
            "nun\n",
            "nurse\n",
            "observer\n",
            "officer\n",
            "organist\n",
            "painter\n",
            "paralegal\n",
            "parishioner\n",
            "parliamentarian\n",
            "pastor\n",
            "pathologist\n",
            "patrolman\n",
            "pediatrician\n",
            "performer\n",
            "pharmacist\n",
            "philanthropist\n",
            "philosopher\n",
            "photographer\n",
            "photojournalist\n",
            "physician\n",
            "physicist\n",
            "pianist\n",
            "planner\n",
            "plastic_surgeon\n",
            "playwright\n",
            "plumber\n",
            "poet\n",
            "policeman\n",
            "politician\n",
            "pollster\n",
            "preacher\n",
            "president\n",
            "priest\n",
            "principal\n",
            "prisoner\n",
            "professor\n",
            "professor_emeritus\n",
            "programmer\n",
            "promoter\n",
            "proprietor\n",
            "prosecutor\n",
            "protagonist\n",
            "protege\n",
            "protester\n",
            "provost\n",
            "psychiatrist\n",
            "psychologist\n",
            "publicist\n",
            "pundit\n",
            "rabbi\n",
            "radiologist\n",
            "ranger\n",
            "realtor\n",
            "receptionist\n",
            "registered_nurse\n",
            "researcher\n",
            "restaurateur\n",
            "sailor\n",
            "saint\n",
            "salesman\n",
            "saxophonist\n",
            "scholar\n",
            "scientist\n",
            "screenwriter\n",
            "sculptor\n",
            "secretary\n",
            "senator\n",
            "sergeant\n",
            "servant\n",
            "serviceman\n",
            "sheriff_deputy\n",
            "shopkeeper\n",
            "singer\n",
            "singer_songwriter\n",
            "skipper\n",
            "socialite\n",
            "sociologist\n",
            "soft_spoken\n",
            "soldier\n",
            "solicitor\n",
            "solicitor_general\n",
            "soloist\n",
            "sportsman\n",
            "sportswriter\n",
            "statesman\n",
            "steward\n",
            "stockbroker\n",
            "strategist\n",
            "student\n",
            "stylist\n",
            "substitute\n",
            "superintendent\n",
            "surgeon\n",
            "surveyor\n",
            "swimmer\n",
            "taxi_driver\n",
            "teacher\n",
            "technician\n",
            "teenager\n",
            "therapist\n",
            "trader\n",
            "treasurer\n",
            "trooper\n",
            "trucker\n",
            "trumpeter\n",
            "tutor\n",
            "tycoon\n",
            "undersecretary\n",
            "understudy\n",
            "valedictorian\n",
            "vice_chancellor\n",
            "violinist\n",
            "vocalist\n",
            "waiter\n",
            "waitress\n",
            "warden\n",
            "warrior\n",
            "welder\n",
            "worker\n",
            "wrestler\n",
            "writer\n"
          ]
        }
      ],
      "source": [
        "view_occupations(occupations_file)"
      ]
    },
    {
      "cell_type": "markdown",
      "metadata": {
        "id": "Ci7j7szxzF53"
      },
      "source": [
        "***\n",
        "**<font color='red'>Task 3a:</font>** Complete the `get_occupation_stereotypes()` below.\n",
        "***"
      ]
    },
    {
      "cell_type": "code",
      "execution_count": 60,
      "metadata": {},
      "outputs": [],
      "source": [
        "import numpy as np\n",
        "import json\n",
        "\n",
        "def get_occupation_stereotypes(she, he, occupations_file, word_to_vector_map, verbose=False):\n",
        "    \"\"\"\n",
        "    Computes the words that are closest to she and he in the GloVe embeddings\n",
        "    Arguments:\n",
        "        she (String): A word\n",
        "        he (String): A word\n",
        "        occupations_file (String): The path to the occupation file\n",
        "        word_to_vector_map (Dict): A dictionary mapping words to embedding vectors\n",
        "    Returns:\n",
        "        most_similar_words (Tuple(List[Tuple(Float, String)], List[Tuple(Float, String)])):\n",
        "        A tuple of the list of the most similar occupation words to she and he with their associated similarity\n",
        "    \"\"\"\n",
        "\n",
        "    # Read occupations\n",
        "    with open(occupations_file, 'r') as file_handle:\n",
        "        occupations = json.load(file_handle)\n",
        "\n",
        "    # Extract occupation words\n",
        "    occupation_words = [occupation[0] for occupation in occupations]\n",
        "\n",
        "    # Get embedding vector of she and he\n",
        "    embedding_vector_she = word_to_vector_map[she.lower()]\n",
        "    embedding_vector_he = word_to_vector_map[he.lower()]\n",
        "\n",
        "    # Get the vector difference between embedding vectors of she and he\n",
        "    vector_difference_she_he = embedding_vector_she - embedding_vector_he\n",
        "\n",
        "    # Normalize the difference\n",
        "    normalized_difference_she_he = vector_difference_she_he / np.linalg.norm(vector_difference_she_he)\n",
        "\n",
        "    # Store the cosine similarities\n",
        "    similarities = []\n",
        "\n",
        "    for word in occupation_words:\n",
        "        try:\n",
        "            # Get the embedding vector of the current occupation word\n",
        "            occupation_word_embedding_vector = word_to_vector_map[word.lower()]\n",
        "            \n",
        "            # Compute dot product (not cosine similarity) between embedding vector of the occupation word and normalized she - he vector\n",
        "            similarity = np.dot(occupation_word_embedding_vector, normalized_difference_she_he)\n",
        "            similarities.append((similarity, word))\n",
        "        except KeyError:\n",
        "            if verbose:\n",
        "                print(f\"{word} is not in our vocabulary.\")\n",
        "\n",
        "    # Sort by the similarity scores\n",
        "    most_similar_words = sorted(similarities, key=lambda x: x[0])\n",
        "\n",
        "    # Return the 20 most she-like and 20 most he-like occupations\n",
        "    return most_similar_words[:20], most_similar_words[-20:]\n"
      ]
    },
    {
      "cell_type": "markdown",
      "metadata": {
        "id": "SbrKEw6NzMea"
      },
      "source": [
        "***\n",
        "**<font color='red'>Task 3b:</font>** Execute the cell below and report your results.\n",
        "\n",
        "1) Does the GloVe word embeddings propagate bias? why?\n",
        "\n",
        "2) From the list associated with she, list those that reflect gender stereotype.   \n",
        "\n",
        "3) Compare your list from 2 to the occupations closest to he. What are your conclusions?\n",
        "\n",
        "Exclude businesswoman from your list.\n",
        "***"
      ]
    },
    {
      "cell_type": "code",
      "execution_count": 61,
      "metadata": {
        "id": "66nKdC4Tjwoe"
      },
      "outputs": [
        {
          "name": "stdout",
          "output_type": "stream",
          "text": [
            "Occupations closest to he:\n",
            "(-2.317636775433912, 'coach')\n",
            "(-1.8932855280344307, 'footballer')\n",
            "(-1.8620131796173691, 'midfielder')\n",
            "(-1.7624995295011965, 'captain')\n",
            "(-1.7110627105774672, 'commander')\n",
            "(-1.7059758577517332, 'goalkeeper')\n",
            "(-1.6870295784122344, 'archbishop')\n",
            "(-1.6851187674832186, 'manager')\n",
            "(-1.6524126263622407, 'cleric')\n",
            "(-1.6437942537817363, 'caretaker')\n",
            "(-1.6251479196522463, 'skipper')\n",
            "(-1.6135163185289536, 'minister')\n",
            "(-1.5735967857886928, 'colonel')\n",
            "(-1.514132848670914, 'bishop')\n",
            "(-1.4900089641684104, 'lieutenant')\n",
            "(-1.4646789549750254, 'marshal')\n",
            "(-1.350102360670949, 'firebrand')\n",
            "(-1.3495273001440267, 'marksman')\n",
            "(-1.2982396153707925, 'substitute')\n",
            "(-1.2865306498500844, 'president')\n",
            "\n",
            "Occupations closest to she:\n",
            "(1.3144482238369495, 'publicist')\n",
            "(1.3566199125564076, 'photojournalist')\n",
            "(1.3870933404433066, 'hairdresser')\n",
            "(1.4310344466153593, 'receptionist')\n",
            "(1.4818044040627332, 'housekeeper')\n",
            "(1.5072760803257585, 'homemaker')\n",
            "(1.5519599949650391, 'businesswoman')\n",
            "(1.5604249024975783, 'nanny')\n",
            "(1.5933013076108535, 'therapist')\n",
            "(1.6927447653966166, 'housewife')\n",
            "(1.7652903316891035, 'dancer')\n",
            "(1.8146138506256952, 'narrator')\n",
            "(1.8370441422449155, 'singer')\n",
            "(1.8602084230631977, 'waitress')\n",
            "(1.880049846422852, 'nurse')\n",
            "(1.9089302573565148, 'stylist')\n",
            "(1.9376340741828377, 'maid')\n",
            "(1.9588562131745964, 'socialite')\n",
            "(2.29922806633126, 'ballerina')\n",
            "(3.0877807766714254, 'actress')\n"
          ]
        }
      ],
      "source": [
        "he, she = get_occupation_stereotypes('she', 'he', occupations_file, word_to_vector_map)\n",
        "print(\"Occupations closest to he:\")\n",
        "for occupation in he:\n",
        "    print(f\"{occupation[0], occupation[1]}\")\n",
        "\n",
        "print(\"\\nOccupations closest to she:\")\n",
        "for occupation in she:\n",
        "    print(f\"{occupation[0], occupation[1]}\")"
      ]
    },
    {
      "cell_type": "markdown",
      "metadata": {
        "id": "w4dyeTcJxqdA"
      },
      "source": [
        "<!--\n",
        "### Task 4 - Analogies exhibiting stereotypes\n",
        "Using analogies to quantify gender stereotype in the embedding. Given two words, e.g. $he$, $she$, generate a pair of words, $x$ and $y$, such that $he$ to $x$ as $she$ to $y$ is a good analogy. This will generate pairs that the embedding believes to be analogous to $he$, $she$ or any other pair of seed words.\n",
        "\n",
        "The analogy generator takes as input a pair of seed words (a, b) which determines the seed direction $\\vec{a} - \\vec{b}$ corresponding to the ***normalized*** difference between the two seed words.\n",
        "\n",
        "In this task, we will use $(a, b) = (she, he)$. Then all pairs of words $x, y$ is scored using the following metric:\n",
        "\n",
        "$$S_{(a, b)}(x, y) = ||\\vec{a} - \\vec{b}||_2 \\cdot ||\\vec{x} - \\vec{y}||_2 \\space \\text{if} \\space ||\\vec{x} - \\vec{y}||_2 ≤ δ, 0 \\space \\text{else}$$\n",
        "\n",
        "Where $δ$ is a threshold for semantic similarity. We will use $δ = 1$.\n",
        "\n",
        "<!-- In other words, the above equation reads, if the normalized difference between $x$ and $y$ is less than or equal to our threshold, then the score of the pair of words $x, y$ is the dot product of the normalized difference between the seed pairs and the normalized difference between the pair of words $x, y$. ->\n",
        "\n",
        "Notice that each vector difference is normalized, therefore we are basically computing the numerator of equation 1 as part of this equation.\n",
        "\n",
        "***\n",
        "**<font color='red'>Task 4:</font>** Test the implementation of your `get_analogies_exhibiting_stereotypes()` below. Report your results. Are the generated analogies biased?\n",
        "***\n",
        "-->\n",
        "\n",
        "### Task 4 - Debiasing word embeddings\n",
        "\n",
        "**Gender Specific words**\n",
        "\n",
        "Words that are associated with a gender by definition. For example, brother, sister, businesswoman or businessman.\n",
        "\n",
        "**Gender neutral words**\n",
        "\n",
        "The remanining words that are not specific to a gender are gender neutral. For example, flight attendant or shoes. The compliment of gender specific words, can be taken as the gender neutral words.\n",
        "\n",
        "**Step 1 - Identify gender subspace i.e identify the direction of the embedding that captures the bias**\n",
        "\n",
        "To robustly estimate bias, we use the gender specific words to learn a gender subpace in the embedding. To identify the gender subspace, we consider the vector difference of gender specific word pairs, such as $\\vec{she} - \\vec{he}$, $\\vec{woman} - \\vec{man}$ or $\\vec{her} - \\vec{his}$. This identifies a **gender direction or bias subspace** $g \\space ϵ \\space ℝ^d$ which captures gender in the embedding.\n",
        "\n",
        "**Note:** We will use $g$ and $bias\\_direction$ interchangeably in this lab."
      ]
    },
    {
      "cell_type": "code",
      "execution_count": 62,
      "metadata": {
        "id": "1w_fti_WxzCZ"
      },
      "outputs": [
        {
          "name": "stdout",
          "output_type": "stream",
          "text": [
            "[ 0.261302   0.438481  -0.13376    0.12281    0.00838    0.64455\n",
            "  0.13151    0.01198    0.73557   -0.04754   -0.04261   -0.23387\n",
            "  0.56951    0.24359    0.29471    0.152461  -0.44638    0.08563\n",
            "  0.66735   -0.202578   0.28133    0.71557    0.04015    0.42204\n",
            "  0.63574    0.1193    -0.429694   0.216301   0.08826   -0.5115\n",
            " -0.286      0.227249   0.25811    0.18075   -0.22733   -0.151844\n",
            " -0.13196   -0.14412    0.01709   -0.6281     0.124465  -0.16902\n",
            "  0.6244667 -0.53734    0.379254  -0.3373     0.384876  -0.92383\n",
            " -0.019064   0.435641 ]\n"
          ]
        }
      ],
      "source": [
        "gender = word_to_vector_map['she'] - word_to_vector_map['he']\n",
        "print(gender)"
      ]
    },
    {
      "cell_type": "markdown",
      "metadata": {
        "id": "wrsBGsZPcEte"
      },
      "source": [
        "The gender subspace can also be captured more accurately by taking gender pair difference vectors and computing its principal components (PCs). The top PC, denoted by the unit vector $g$, captures the gender subspace."
      ]
    },
    {
      "cell_type": "code",
      "execution_count": 63,
      "metadata": {
        "id": "C2gVI7TvcvDp"
      },
      "outputs": [],
      "source": [
        "def get_gender_subspace(pairs, word_to_vector_map, num_components=10):\n",
        "    \"\"\"\n",
        "    Compute the gender subspace by computing the principal components of\n",
        "    ten gender pair vectors.\n",
        "    Arguments:\n",
        "        pairs (List[Tuple(String, String)]): A list of gender specific word pairs\n",
        "        word_to_vector_map (Dict): A dictionary mapping words to embedding vectors\n",
        "        num_components (Int): The number of principal components to compute. Defaults to 10\n",
        "    Returns:\n",
        "        gender_subspace (ndarray): The gender bias subspace(or direction) of shape (embedding dimension,)\n",
        "    \"\"\"\n",
        "\n",
        "    matrix = []\n",
        "    for word_1, word_2 in pairs:\n",
        "        embedding_vector_word_1 = word_to_vector_map[word_1]\n",
        "        embedding_vector_word_2 = word_to_vector_map[word_2]\n",
        "        center = (embedding_vector_word_1 + embedding_vector_word_2) / 2\n",
        "        matrix.append(embedding_vector_word_1 - center)\n",
        "        matrix.append(embedding_vector_word_2 - center)\n",
        "\n",
        "    matrix = np.array(matrix)\n",
        "    pca = PCA(n_components=num_components)\n",
        "    pca.fit(matrix)\n",
        "\n",
        "    pcs = pca.components_                  # Sorted by decreasing explained variance\n",
        "    eigenvalues = pca.explained_variance_  # Eigenvalues\n",
        "    gender_subspace = pcs[0]               # The first element has the highest eigenvalue\n",
        "    return gender_subspace"
      ]
    },
    {
      "cell_type": "code",
      "execution_count": 64,
      "metadata": {
        "id": "3qsDDbxTgYSO"
      },
      "outputs": [
        {
          "name": "stdout",
          "output_type": "stream",
          "text": [
            "[ 0.06639123  0.15316702 -0.12170385  0.02910502 -0.012115    0.2956192\n",
            "  0.10015248  0.03503806  0.27605339 -0.06259264  0.04843718 -0.20243709\n",
            "  0.22435017  0.02205075  0.08795604  0.05350635 -0.23457441 -0.0051648\n",
            "  0.29096997  0.02894429  0.10423079  0.24379617  0.05296573  0.17222571\n",
            "  0.13557158  0.13746521 -0.05081975  0.11252051  0.01639264 -0.2113686\n",
            " -0.1403471   0.13498117  0.08092433  0.02423979 -0.10780551 -0.05927322\n",
            " -0.04857578 -0.03199024  0.08174041 -0.17759707 -0.02782478 -0.16880811\n",
            "  0.27589146 -0.18007478  0.04123208 -0.09385728  0.11011447 -0.25650007\n",
            "  0.06258361  0.00847159]\n"
          ]
        }
      ],
      "source": [
        "gender_specific_pairs = [\n",
        "    ('she', 'he'),\n",
        "    ('her', 'his'),\n",
        "    ('woman', 'man'),\n",
        "    ('mary', 'john'),\n",
        "    ('herself', 'himself'),\n",
        "    ('daughter', 'son'),\n",
        "    ('mother', 'father'),\n",
        "    ('gal', 'guy'),\n",
        "    ('girl', 'boy'),\n",
        "    ('female', 'male')\n",
        "]\n",
        "gender_direction = get_gender_subspace(gender_specific_pairs, word_to_vector_map)\n",
        "print(gender_direction)"
      ]
    },
    {
      "cell_type": "markdown",
      "metadata": {
        "id": "2dqlFhLsXhsA"
      },
      "source": [
        "***\n",
        "**<font color='red'>Task 4a:</font>** Run the cell below to computes the similarity between the gender embedding and the embedding vectors of male and female names. What can you observe?\n",
        "***"
      ]
    },
    {
      "cell_type": "code",
      "execution_count": 65,
      "metadata": {
        "id": "V0dQ7vU6XRqs"
      },
      "outputs": [
        {
          "name": "stdout",
          "output_type": "stream",
          "text": [
            "Names and their similarities with simple gender subspace\n",
            "mary 0.345739910281638\n",
            "john -0.1787978383342048\n",
            "sweta 0.17016456601128152\n",
            "david -0.13322615600786666\n",
            "kazim -0.32658964009764846\n",
            "angela 0.26007991466322355\n",
            "\n",
            "Names and their similarities with PCA based gender subspace\n",
            "mary 0.26370912044197214\n",
            "john -0.3816839789078351\n",
            "sweta 0.17737047776917084\n",
            "david -0.3165647635266185\n",
            "kazim -0.32498381827093165\n",
            "angela 0.1862330892627611\n"
          ]
        }
      ],
      "source": [
        "print('Names and their similarities with simple gender subspace')\n",
        "names = [\"mary\", \"john\", \"sweta\", \"david\", \"kazim\", \"angela\"]\n",
        "for name in names:\n",
        "    print(name, cosine_similarity(word_to_vector_map[name], gender))\n",
        "\n",
        "print()\n",
        "print('Names and their similarities with PCA based gender subspace')\n",
        "names = [\"mary\", \"john\", \"sweta\", \"david\", \"kazim\", \"angela\"]\n",
        "for name in names:\n",
        "    print(name, cosine_similarity(word_to_vector_map[name], gender_direction))"
      ]
    },
    {
      "cell_type": "markdown",
      "metadata": {
        "id": "7-3f7NiKZHRB"
      },
      "source": [
        "***\n",
        "**<font color='red'>Task 4b:</font>** Quantify direct and indirect biases between words and the gender embedding by running the following cell. What is your observation?\n",
        "***"
      ]
    },
    {
      "cell_type": "code",
      "execution_count": 66,
      "metadata": {
        "id": "v9b4NpyZZR-K"
      },
      "outputs": [
        {
          "name": "stdout",
          "output_type": "stream",
          "text": [
            "engineer -0.26262862587493974\n",
            "science -0.12027809587345377\n",
            "pilot -0.13198330527248672\n",
            "technology -0.18011166078193763\n",
            "lipstick 0.4179404715417423\n",
            "arts -0.04513818522820775\n",
            "singer 0.16162975755073905\n",
            "computer -0.1639054933721174\n",
            "receptionist 0.33052842359984386\n",
            "fashion 0.06913524872078809\n",
            "doctor 0.02885191966409429\n",
            "literature -0.08972688088254835\n"
          ]
        }
      ],
      "source": [
        "words = [\"engineer\", \"science\", \"pilot\", \"technology\", \"lipstick\", \"arts\", \"singer\", \"computer\", \"receptionist\", \"fashion\", \"doctor\", \"literature\"]\n",
        "for word in words:\n",
        "    print(word, cosine_similarity(word_to_vector_map[word], gender_direction))"
      ]
    },
    {
      "cell_type": "markdown",
      "metadata": {
        "id": "H81h64YIae53"
      },
      "source": [
        "**Step 2 - Neutralize gender neutral words**\n",
        "\n",
        "Ensures that gender neutral words are zero in the gender subspace. This means that this steps takes a vector such as $e_{fashion}$ and turns its components into zeros in the direction of $g$ to produce $e_{fashion}^{debiased}$\n",
        "\n",
        "To remove bias in words such as \"receptionist\" or \"shoe\", given an input embedding of the word $e$, we compute debiased $e$ denoted as $e^{debiased}$ by using the formulas:\n",
        "\n",
        "$$e^{bias\\_component} = \\frac{e \\cdot bias\\_direction}{||bias\\_direction||_2^2} * bias\\_direction\\tag{3}$$\n",
        "\n",
        "$$e^{debiased} = e - e^{bias\\_component}\\tag{4}$$\n",
        "\n",
        "Where $e^{bias\\_component}$ is the projection of the word embedding $e$ onto the gender subspace. Since the gender subspace is an orthogonal unit vector it is simply a direction. This also means that $e^{debiased}$ is the projection onto the orthogonal subspace.\n",
        "\n",
        "$||g||_2^2$ is the squared euclidean norm of $g$ formulated as:\n",
        "\n",
        "$$||g||_2^2 = {\\sum}_i \\space g_i^2$$\n",
        "\n",
        "\n",
        "***\n",
        "**<font color='red'>Task 4c:</font>** Implement `neutralize()` below by implementing the formulas above. Hint see [np.sum](https://numpy.org/doc/stable/reference/generated/numpy.sum.html)\n",
        "***"
      ]
    },
    {
      "cell_type": "code",
      "execution_count": 67,
      "metadata": {
        "id": "6QQWRKbX2k5R"
      },
      "outputs": [],
      "source": [
        "import numpy as np\n",
        "\n",
        "def neutralize(word, gender_direction, word_to_vector_map):\n",
        "    \"\"\"\n",
        "    Project the vector of word onto the gender subspace to remove the bias of \"word\"\n",
        "    Arguments:\n",
        "        word (String): A word to debias\n",
        "        gender_direction (ndarray): Numpy array of shape (embedding size (50), ) which is the bias axis\n",
        "        word_to_vector_map (Dict): A dictionary mapping words to embedding vectors\n",
        "\n",
        "    Returns:\n",
        "        debiased_word (ndarray): the vector representation of the neutralized input word\n",
        "    \"\"\"\n",
        "\n",
        "    # Get the vector representation of the word\n",
        "    embedding_of_word = word_to_vector_map[word]\n",
        "\n",
        "    # Compute the projection of word onto the gender direction (Equation 3)\n",
        "    gender_direction_norm_squared = np.sum(gender_direction**2)\n",
        "    projection_of_word_onto_gender = np.dot(embedding_of_word, gender_direction) / gender_direction_norm_squared * gender_direction\n",
        "\n",
        "    # Neutralize word (Equation 4)\n",
        "    debiased_word = embedding_of_word - projection_of_word_onto_gender\n",
        "\n",
        "    return debiased_word\n"
      ]
    },
    {
      "cell_type": "markdown",
      "metadata": {
        "id": "8UqUM48Q9mGh"
      },
      "source": [
        "\n",
        "***\n",
        "**<font color='red'>Task 4d:</font>** Test your implementation by running the code cell below. What is your observation?\n",
        "***"
      ]
    },
    {
      "cell_type": "code",
      "execution_count": 68,
      "metadata": {
        "id": "IBlXaobP8k3s"
      },
      "outputs": [
        {
          "name": "stdout",
          "output_type": "stream",
          "text": [
            "Before neutralization, cosine similarity between babysit and gender is: 0.266344487920992\n",
            "After neutralization, cosine similarity between babysit and gender is: 6.6947850078828925e-18\n"
          ]
        }
      ],
      "source": [
        "word = \"babysit\"\n",
        "print(f\"Before neutralization, cosine similarity between {word} and gender is: {cosine_similarity(word_to_vector_map[word], gender_direction)}\")\n",
        "\n",
        "debiased_word = neutralize(word, gender_direction, word_to_vector_map)\n",
        "print(f\"After neutralization, cosine similarity between {word} and gender is: {cosine_similarity(debiased_word, gender_direction)}\")"
      ]
    },
    {
      "cell_type": "markdown",
      "metadata": {
        "id": "Tph-OAkfh9O2"
      },
      "source": [
        "**Step 3 - Equalize**\n",
        "\n",
        "Equalizes sets of gender specific words outside the subspace. The goal is to ensure that gender neutral words are equidistance to all the words in the set. We want to ensure that gender specific words are not biased with respect to neutral words.\n",
        "\n",
        "For example, consider the set {woman, man}, if the neutral word \"babysit\" is closer to \"woman\" than \"man\" then the neutralization of \"babysit\" can reduce the gender-stereotype associated with babysitting but does not make \"babysit\" equidistant to \"woman\" and \"man\".\n",
        "\n",
        "Given two gender specific word pairs $w_1$ and $w_2$ to debias, and their embeddings $e_{w_1}$ and $e_{w_2}$,   equalization can be achieved with the following equations:\n",
        "\n",
        "$$ \\mu = \\frac{e_{w_1} + e_{w_2}}{2} \\tag{5}$$\n",
        "\n",
        "$$ \\mu_{B} = \\frac{\\mu \\cdot bias\\_direction}{||bias\\_direction||_2^2} * bias\\_direction \\tag{6}$$\n",
        "\n",
        "$$ v = \\mu - \\mu_B \\tag{7}$$\n",
        "\n",
        "$$ e_{w_1B} = \\frac{e_{w_1} \\cdot bias\\_direction}{||bias\\_direction||_2^2} * bias\\_direction \\tag{8}$$\n",
        "\n",
        "$$ e_{w_2B} = \\frac{e_{w_2} \\cdot bias\\_direction}{||bias\\_direction||_2^2} * bias\\_direction \\tag{9}$$\n",
        "\n",
        "$$ e_{w_1B}^{new} = \\sqrt{|1 - ||v||_2^2|} * \\frac{e_{w_1B} - \\mu_B}{||(e_{w_1} - v) - \\mu_B||_2} \\tag{10}$$\n",
        "\n",
        "$$  e_{w_2B}^{new} = \\sqrt{|1 - ||v||_2^2|} * \\frac{e_{w_2B} - \\mu_B}{||(e_{w_2} - v) - \\mu_B||_2} \\tag{11}$$\n",
        "\n",
        "$$ e_1 = v + e_{w_1B}^{new} \\tag{12}$$\n",
        "\n",
        "$$ e_2 = v + e_{w_2B}^{new} \\tag{13}$$"
      ]
    },
    {
      "cell_type": "markdown",
      "metadata": {
        "id": "CihNFJFY0gBt"
      },
      "source": [
        "***\n",
        "**<font color='red'>Task 5a:</font>** Implement `equalization()` below by implementing the formulas above.\n",
        "***"
      ]
    },
    {
      "cell_type": "code",
      "execution_count": 69,
      "metadata": {
        "id": "vMO9XKDf0nO5"
      },
      "outputs": [],
      "source": [
        "import numpy as np\n",
        "\n",
        "def equalization(equality_set, bias_direction, word_to_vector_map):\n",
        "    \"\"\"\n",
        "    Equalize the pair of gender specific words in the equality set ensuring that\n",
        "    any neutral word is equidistant to all words in the equality set.\n",
        "    Arguments:\n",
        "        equality_set (Tuple(String, String)): a tuple of strings of gender specific\n",
        "        words to debias e.g (\"grandmother\", \"grandfather\")\n",
        "        bias_direction (ndarray): numpy array of shape (embedding dimension,). The\n",
        "        embedding vector representing the bias direction\n",
        "        word_to_vector_map (Dict):  A dictionary mapping words to embedding vectors\n",
        "    Returns:\n",
        "        embedding_word_a (ndarray): numpy array of shape (embedding dimension,). The\n",
        "        embedding vector representing the first word\n",
        "        embedding_word_b (ndarray): numpy array of shape (embedding dimension,). The\n",
        "        embedding vector representing the second word\n",
        "    \"\"\"\n",
        "\n",
        "    # Get the vector representation of word pair by unpacking equality_set\n",
        "    word_a, word_b = equality_set\n",
        "    embedding_word_a = word_to_vector_map[word_a]\n",
        "    embedding_word_b = word_to_vector_map[word_b]\n",
        "\n",
        "    # Compute the mean (eq. 5) of embedding_word_a and embedding_word_b\n",
        "    mean = (embedding_word_a + embedding_word_b) / 2\n",
        "\n",
        "    # Compute the projection of mean representation onto the bias direction (eq. 6)\n",
        "    mean_B = (np.dot(mean, bias_direction) / np.sum(bias_direction**2)) * bias_direction\n",
        "\n",
        "    # Compute the projection onto the orthogonal subspace (eq. 7)\n",
        "    mean_orthogonal = mean - mean_B\n",
        "\n",
        "    # Compute the projection of the embeddings of word a and b onto the bias direction (eq. 8 and 9)\n",
        "    embedding_word_a_on_bias_direction = (np.dot(embedding_word_a, bias_direction) / np.sum(bias_direction**2)) * bias_direction\n",
        "    embedding_word_b_on_bias_direction = (np.dot(embedding_word_b, bias_direction) / np.sum(bias_direction**2)) * bias_direction\n",
        "\n",
        "    # Re-embed embeddings of word a and b using eq. 10 and 11\n",
        "    corrected_term_a = (embedding_word_a_on_bias_direction - mean_B) / np.linalg.norm((embedding_word_a - mean_orthogonal) - mean_B)\n",
        "    corrected_term_b = (embedding_word_b_on_bias_direction - mean_B) / np.linalg.norm((embedding_word_b - mean_orthogonal) - mean_B)\n",
        "    sqrt_term = np.sqrt(np.abs(1 - np.sum(mean_orthogonal**2)))\n",
        "\n",
        "    new_embedding_word_a_on_bias_direction = sqrt_term * corrected_term_a\n",
        "    new_embedding_word_b_on_bias_direction = sqrt_term * corrected_term_b\n",
        "\n",
        "    # Equalize embedding of word a and b using eq. 12 and 13\n",
        "    embedding_word_a = mean_orthogonal + new_embedding_word_a_on_bias_direction\n",
        "    embedding_word_b = mean_orthogonal + new_embedding_word_b_on_bias_direction\n",
        "\n",
        "    return embedding_word_a, embedding_word_b\n"
      ]
    },
    {
      "cell_type": "markdown",
      "metadata": {
        "id": "9lrYzSdlA_Ya"
      },
      "source": [
        "***\n",
        "**<font color='red'>Task 5b:</font>** Test your implementation by running the cell below.\n",
        "***"
      ]
    },
    {
      "cell_type": "code",
      "execution_count": 70,
      "metadata": {
        "id": "dC88RE6MBIpV"
      },
      "outputs": [
        {
          "name": "stdout",
          "output_type": "stream",
          "text": [
            "Cosine similarity before equalization:\n",
            "(embedding vector of father, gender_direction): -0.08502503175882635\n",
            "(embedding vector of mother, gender_direction): 0.33325930153565414\n",
            "\n",
            "Cosine similarity after equalization:\n",
            "(embedding vector of father, gender_direction): -0.6639863783612923\n",
            "(embedding vector of mother, gender_direction): 0.6639863783612923\n"
          ]
        }
      ],
      "source": [
        "print(\"Cosine similarity before equalization:\")\n",
        "print(f\"(embedding vector of father, gender_direction): {cosine_similarity(word_to_vector_map['father'], gender_direction)}\")\n",
        "print(f\"(embedding vector of mother, gender_direction): {cosine_similarity(word_to_vector_map['mother'], gender_direction)}\")\n",
        "print()\n",
        "\n",
        "embedding_word_a, embedding_word_b  = equalization((\"father\", \"mother\"), gender_direction, word_to_vector_map)\n",
        "print(\"Cosine similarity after equalization:\")\n",
        "print(f\"(embedding vector of father, gender_direction): {cosine_similarity(embedding_word_a, gender_direction)}\")\n",
        "print(f\"(embedding vector of mother, gender_direction): {cosine_similarity(embedding_word_b, gender_direction)}\")"
      ]
    },
    {
      "cell_type": "markdown",
      "metadata": {
        "id": "KJUPPz80BJCW"
      },
      "source": [
        "***\n",
        "**<font color='red'>Task 5c:</font>** Looking at the output of your implementation test above, what can you observe?.\n",
        "***"
      ]
    },
    {
      "cell_type": "markdown",
      "metadata": {
        "id": "07sW3hQeZY36"
      },
      "source": [
        "**References**:\n",
        " - The debiasing algorithm is from Bolukbasi et al., 2016 [Man is to Computer Programmer as Woman is to Homemake? Debiasing word Embeddings](https://papers.nips.cc/paper/6228-man-is-to-computer-programmer-as-woman-is-to-homemaker-debiasing-word-embeddings.pdf)\n",
        " - The code is partly adapted from Andrew Ng's debiasing word embeddings course on [Coursera](https://www.coursera.org/learn/nlp-sequence-models/lecture/zHASj/debiasing-word-embeddings)\n",
        " - The GloVe word embeddings is publicly available at (https://nlp.stanford.edu/projects/glove/) and is due to the works of Jeffrey Pennington, Richard Socher, and Christopher D. Manning."
      ]
    }
  ],
  "metadata": {
    "colab": {
      "provenance": []
    },
    "kernelspec": {
      "display_name": "Python 3",
      "name": "python3"
    },
    "language_info": {
      "codemirror_mode": {
        "name": "ipython",
        "version": 3
      },
      "file_extension": ".py",
      "mimetype": "text/x-python",
      "name": "python",
      "nbconvert_exporter": "python",
      "pygments_lexer": "ipython3",
      "version": "3.10.13"
    }
  },
  "nbformat": 4,
  "nbformat_minor": 0
}
